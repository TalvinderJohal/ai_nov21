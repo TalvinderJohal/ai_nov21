{
 "cells": [
  {
   "cell_type": "markdown",
   "metadata": {
    "id": "7yoAeqZtaBmp",
    "nbgrader": {
     "grade": false,
     "grade_id": "cell-33d26828be6e1038",
     "locked": true,
     "schema_version": 3,
     "solution": false,
     "task": false
    }
   },
   "source": [
    "# Exercise 10: Hierarchical clustering of the grain data\n",
    "\n",
    "In the video, you learnt that the SciPy `linkage()` function performs hierarchical clustering on an array of samples.  Use the `linkage()` function to obtain a hierarchical clustering of the grain samples, and use `dendrogram()` to visualize the result.  A sample of the grain measurements is provided in the array `samples`, while the variety of each grain sample is given by the list `varieties`.\n"
   ]
  },
  {
   "cell_type": "markdown",
   "metadata": {
    "id": "mk3dxh5naBmt",
    "nbgrader": {
     "grade": false,
     "grade_id": "cell-f184e018b98e7d52",
     "locked": true,
     "schema_version": 3,
     "solution": false,
     "task": false
    }
   },
   "source": [
    "**Step 1:** Import:\n",
    "\n",
    " + `linkage` and `dendrogram` from `scipy.cluster.hierarchy`.\n",
    " + `matplotlib.pyplot` as `plt`.\n",
    " + `pandas`\n",
    " + `load_iris` and `train_test_split`"
   ]
  },
  {
   "cell_type": "code",
   "execution_count": 71,
   "metadata": {
    "id": "ciFPMqPgaBmv"
   },
   "outputs": [],
   "source": [
    "import numpy as np\n",
    "import pandas as pd\n",
    "from sklearn import datasets\n",
    "from scipy.cluster.hierarchy import linkage, dendrogram\n",
    "from sklearn.model_selection import train_test_split\n",
    "import matplotlib.pyplot as plt\n",
    "\n",
    "\n"
   ]
  },
  {
   "cell_type": "markdown",
   "metadata": {
    "id": "zSW_vygVaBmw",
    "nbgrader": {
     "grade": false,
     "grade_id": "cell-5d407d7746dba37b",
     "locked": true,
     "schema_version": 3,
     "solution": false,
     "task": false
    }
   },
   "source": [
    "**Step 2:** Load the dataset _(done for you)_."
   ]
  },
  {
   "cell_type": "code",
   "execution_count": 72,
   "metadata": {
    "exercise": false,
    "id": "nWePNZPAaBmx"
   },
   "outputs": [],
   "source": [
    "\n",
    "iris_data = datasets.load_iris()\n"
   ]
  },
  {
   "cell_type": "code",
   "execution_count": 73,
   "metadata": {
    "id": "XqQDLv8DaBmx",
    "nbgrader": {
     "grade": false,
     "grade_id": "cell-5b5863d4b8ed6db7",
     "locked": false,
     "schema_version": 3,
     "solution": true,
     "task": false
    }
   },
   "outputs": [
    {
     "data": {
      "text/html": [
       "<div>\n",
       "<style scoped>\n",
       "    .dataframe tbody tr th:only-of-type {\n",
       "        vertical-align: middle;\n",
       "    }\n",
       "\n",
       "    .dataframe tbody tr th {\n",
       "        vertical-align: top;\n",
       "    }\n",
       "\n",
       "    .dataframe thead th {\n",
       "        text-align: right;\n",
       "    }\n",
       "</style>\n",
       "<table border=\"1\" class=\"dataframe\">\n",
       "  <thead>\n",
       "    <tr style=\"text-align: right;\">\n",
       "      <th></th>\n",
       "      <th>sepal length</th>\n",
       "      <th>sepal width</th>\n",
       "      <th>petal length</th>\n",
       "      <th>petal width</th>\n",
       "      <th>target</th>\n",
       "      <th>class</th>\n",
       "    </tr>\n",
       "  </thead>\n",
       "  <tbody>\n",
       "    <tr>\n",
       "      <th>0</th>\n",
       "      <td>5.1</td>\n",
       "      <td>3.5</td>\n",
       "      <td>1.4</td>\n",
       "      <td>0.2</td>\n",
       "      <td>0</td>\n",
       "      <td>setosa</td>\n",
       "    </tr>\n",
       "    <tr>\n",
       "      <th>1</th>\n",
       "      <td>4.9</td>\n",
       "      <td>3.0</td>\n",
       "      <td>1.4</td>\n",
       "      <td>0.2</td>\n",
       "      <td>0</td>\n",
       "      <td>setosa</td>\n",
       "    </tr>\n",
       "    <tr>\n",
       "      <th>2</th>\n",
       "      <td>4.7</td>\n",
       "      <td>3.2</td>\n",
       "      <td>1.3</td>\n",
       "      <td>0.2</td>\n",
       "      <td>0</td>\n",
       "      <td>setosa</td>\n",
       "    </tr>\n",
       "    <tr>\n",
       "      <th>3</th>\n",
       "      <td>4.6</td>\n",
       "      <td>3.1</td>\n",
       "      <td>1.5</td>\n",
       "      <td>0.2</td>\n",
       "      <td>0</td>\n",
       "      <td>setosa</td>\n",
       "    </tr>\n",
       "    <tr>\n",
       "      <th>4</th>\n",
       "      <td>5.0</td>\n",
       "      <td>3.6</td>\n",
       "      <td>1.4</td>\n",
       "      <td>0.2</td>\n",
       "      <td>0</td>\n",
       "      <td>setosa</td>\n",
       "    </tr>\n",
       "  </tbody>\n",
       "</table>\n",
       "</div>"
      ],
      "text/plain": [
       "   sepal length  sepal width  petal length  petal width  target   class\n",
       "0           5.1          3.5           1.4          0.2       0  setosa\n",
       "1           4.9          3.0           1.4          0.2       0  setosa\n",
       "2           4.7          3.2           1.3          0.2       0  setosa\n",
       "3           4.6          3.1           1.5          0.2       0  setosa\n",
       "4           5.0          3.6           1.4          0.2       0  setosa"
      ]
     },
     "execution_count": 73,
     "metadata": {},
     "output_type": "execute_result"
    }
   ],
   "source": [
    "#Create pd DF the same way you did the first day\n",
    "#Create the class and target columns and remove de cm from the columns names\n",
    "\n",
    "def create_df():\n",
    "    df_iris = pd.DataFrame(iris_data.data, columns=iris_data.feature_names)\n",
    "\n",
    "    df_iris[\"target\"] = iris_data.target\n",
    "    df_iris[\"class\"] = iris_data.target_names[iris_data.target]\n",
    "    df_iris.rename(columns={'sepal length (cm)': 'sepal length', 'sepal width (cm)': 'sepal width', 'petal length (cm)': 'petal length', 'petal width (cm)': 'petal width'}, inplace=True)\n",
    "    return df_iris\n",
    "df_iris = create_df()\n",
    "df_iris.head()"
   ]
  },
  {
   "cell_type": "code",
   "execution_count": 74,
   "metadata": {
    "id": "PH4R0XYLaBmz",
    "nbgrader": {
     "grade": true,
     "grade_id": "cell-632fd0e11b776633",
     "locked": true,
     "points": 2,
     "schema_version": 3,
     "solution": false,
     "task": false
    }
   },
   "outputs": [],
   "source": [
    "assert df_iris['sepal length'].shape == (150,)\n",
    "assert df_iris['sepal width'].shape == (150,)\n",
    "assert df_iris['petal length'].shape == (150,)\n",
    "assert df_iris['petal width'].shape == (150,)\n",
    "assert df_iris['target'].shape == (150,)\n",
    "assert df_iris['class'].shape == (150,)"
   ]
  },
  {
   "cell_type": "code",
   "execution_count": 75,
   "metadata": {
    "id": "EWzr4u11aBmz",
    "nbgrader": {
     "grade": false,
     "grade_id": "cell-1b1da2fc006dd2f6",
     "locked": false,
     "schema_version": 3,
     "solution": true,
     "task": false
    }
   },
   "outputs": [],
   "source": [
    "\n",
    "#From our data we will only get variable columns as np.array\n",
    "x = 0\n",
    "### BEGIN SOLUTION\n",
    "x = df_iris[['sepal length', 'sepal width', 'petal length', 'petal width']].values\n",
    "### END SOLUTIONS"
   ]
  },
  {
   "cell_type": "code",
   "execution_count": 76,
   "metadata": {
    "id": "RPpXTyW6aBmz",
    "nbgrader": {
     "grade": true,
     "grade_id": "cell-81d6796d99e92aa3",
     "locked": true,
     "points": 0,
     "schema_version": 3,
     "solution": false,
     "task": false
    }
   },
   "outputs": [],
   "source": [
    "assert x.shape == (150,4)"
   ]
  },
  {
   "cell_type": "markdown",
   "metadata": {
    "id": "SkdaAzsqaBm0"
   },
   "source": [
    "**Step 3:** Perform hierarchical clustering on `samples` using the `linkage()` function with the `method='complete'` keyword argument. Assign the result to `mergings`."
   ]
  },
  {
   "cell_type": "code",
   "execution_count": 77,
   "metadata": {
    "id": "AlmrTMz2aBm0",
    "nbgrader": {
     "grade": false,
     "grade_id": "cell-2a4681a4e740a6fe",
     "locked": false,
     "schema_version": 3,
     "solution": true,
     "task": false
    },
    "outputId": "50af95a8-4ab9-45ea-f541-0e3d0cb42772"
   },
   "outputs": [],
   "source": [
    "mergings = 0 \n",
    "### BEGIN SOLUTION\n",
    "mergings = linkage(x,method='complete')\n",
    "### END SOLUTION"
   ]
  },
  {
   "cell_type": "code",
   "execution_count": 78,
   "metadata": {
    "id": "r6MiksWRaBm1",
    "nbgrader": {
     "grade": true,
     "grade_id": "cell-bd07f2be641ae1c5",
     "locked": true,
     "points": 3,
     "schema_version": 3,
     "solution": false,
     "task": false
    }
   },
   "outputs": [],
   "source": [
    "assert mergings.shape == (149,4)"
   ]
  },
  {
   "cell_type": "markdown",
   "metadata": {
    "id": "vklGk2QRaBm1",
    "nbgrader": {
     "grade": false,
     "grade_id": "cell-e0502f3d32a027c4",
     "locked": true,
     "schema_version": 3,
     "solution": false,
     "task": false
    }
   },
   "source": [
    "**Step 4:** Plot a dendrogram using the `dendrogram()` function on `mergings`, specifying the keyword arguments `labels=varieties`, `leaf_rotation=90`, and `leaf_font_size=6`.  Remember to call `plt.show()` afterwards, to display your plot."
   ]
  },
  {
   "cell_type": "code",
   "execution_count": 79,
   "metadata": {
    "id": "w9PmgqrmaBm1",
    "nbgrader": {
     "grade": false,
     "grade_id": "cell-8ba6a5e72836aa92",
     "locked": false,
     "schema_version": 3,
     "solution": true,
     "task": false
    },
    "outputId": "eeafc922-5158-4132-d56e-e9b9c840dbc4"
   },
   "outputs": [
    {
     "data": {
      "image/png": "[encoded data removed]",
      "text/plain": [
       "<Figure size 432x288 with 1 Axes>"
      ]
     },
     "metadata": {
      "needs_background": "light"
     },
     "output_type": "display_data"
    }
   ],
   "source": [
    "dn = 0\n",
    "### BEGIN SOLUTION\n",
    "dn = dendrogram(mergings,leaf_rotation=90,leaf_font_size=6)\n",
    "# END SOLUTION"
   ]
  },
  {
   "cell_type": "code",
   "execution_count": 80,
   "metadata": {
    "id": "GExzAYjJaBm2",
    "nbgrader": {
     "grade": true,
     "grade_id": "cell-bc0248a8151d10ab",
     "locked": true,
     "points": 3,
     "schema_version": 3,
     "solution": false,
     "task": false
    },
    "outputId": "0475b7fd-740a-44fa-f3f6-4ce5185e3916"
   },
   "outputs": [
    {
     "data": {
      "image/png": "[encoded data removed]",
      "text/plain": [
       "<Figure size 432x288 with 1 Axes>"
      ]
     },
     "metadata": {
      "needs_background": "light"
     },
     "output_type": "display_data"
    }
   ],
   "source": [
    "assert type(dn) == type(dendrogram(np.random.rand(15, 4)))"
   ]
  },
  {
   "cell_type": "markdown",
   "metadata": {
    "id": "Ixtxyc4AaBm3",
    "nbgrader": {
     "grade": false,
     "grade_id": "cell-6c3fb83905359f79",
     "locked": true,
     "schema_version": 3,
     "solution": false,
     "task": false
    }
   },
   "source": [
    "## K-MEANS\n",
    "\n",
    "for this next part we will use the K-Means algorithm in order to cluster your data"
   ]
  },
  {
   "cell_type": "markdown",
   "metadata": {
    "id": "V1yvVNG8aBm3",
    "nbgrader": {
     "grade": false,
     "grade_id": "cell-e554a1446ad626ec",
     "locked": true,
     "schema_version": 3,
     "solution": false,
     "task": false
    }
   },
   "source": [
    "**Step 1:** \n",
    "+ import `KMeans` from `sklearn.cluster`\n",
    "+ loading our new datasets"
   ]
  },
  {
   "cell_type": "code",
   "execution_count": 81,
   "metadata": {
    "id": "AKdPwz_NaBm4"
   },
   "outputs": [],
   "source": [
    "from sklearn.cluster import KMeans\n",
    "\n",
    "df = pd.read_csv('/Users/talvinderjohal/Desktop/Talvinder Strive Course/ai_nov21/Chapter 2/02. Clustering/02. Partitional Algorithms/datasets/ch1ex1.csv')\n",
    "points = df.values\n",
    "\n",
    "new_df = pd.read_csv('/Users/talvinderjohal/Desktop/Talvinder Strive Course/ai_nov21/Chapter 2/02. Clustering/02. Partitional Algorithms/datasets/ch1ex2.csv')\n",
    "new_points = new_df.values\n"
   ]
  },
  {
   "cell_type": "markdown",
   "metadata": {
    "id": "dWHXGo7QaBm4",
    "nbgrader": {
     "grade": false,
     "grade_id": "cell-09b5216391582184",
     "locked": true,
     "schema_version": 3,
     "solution": false,
     "task": false
    }
   },
   "source": [
    "**Step 2:** Using `KMeans()`, create a `KMeans` instance called `model` to find `3` clusters. To specify the number of clusters, use the `n_clusters` keyword argument\n"
   ]
  },
  {
   "cell_type": "code",
   "execution_count": 82,
   "metadata": {
    "id": "pfYDW3x4aBm4",
    "nbgrader": {
     "grade": false,
     "grade_id": "cell-d4136dfc2ba753ba",
     "locked": false,
     "schema_version": 3,
     "solution": true,
     "task": false
    }
   },
   "outputs": [],
   "source": [
    "model = 0\n",
    "### BEGIN SOLUTION\n",
    "model = KMeans(n_clusters=3)\n",
    "\n",
    "### END SOLUTION"
   ]
  },
  {
   "cell_type": "code",
   "execution_count": 83,
   "metadata": {
    "id": "s4_UgkHuaBm5",
    "nbgrader": {
     "grade": true,
     "grade_id": "cell-a6a59ad2afd63249",
     "locked": true,
     "points": 1,
     "schema_version": 3,
     "solution": false,
     "task": false
    }
   },
   "outputs": [],
   "source": [
    "assert type(model)== type(KMeans())"
   ]
  },
  {
   "cell_type": "markdown",
   "metadata": {
    "id": "8tS9mJhtaBm5",
    "nbgrader": {
     "grade": false,
     "grade_id": "cell-3b83408ca14ce116",
     "locked": true,
     "schema_version": 3,
     "solution": false,
     "task": false
    }
   },
   "source": [
    "**Step 4:** Use the `.fit()` method of `model` to fit the model to the array of points `points`."
   ]
  },
  {
   "cell_type": "code",
   "execution_count": 84,
   "metadata": {
    "id": "3JiyJXGZaBm5",
    "nbgrader": {
     "grade": false,
     "grade_id": "cell-9a699df5bd74992a",
     "locked": false,
     "schema_version": 3,
     "solution": true,
     "task": false
    }
   },
   "outputs": [
    {
     "data": {
      "text/plain": [
       "KMeans(n_clusters=3)"
      ]
     },
     "execution_count": 84,
     "metadata": {},
     "output_type": "execute_result"
    }
   ],
   "source": [
    "### BEGIN SOLUTION\n",
    "model.fit(points)\n",
    "### END SOLUTION"
   ]
  },
  {
   "cell_type": "markdown",
   "metadata": {
    "id": "P94uhFNcaBm6",
    "nbgrader": {
     "grade": false,
     "grade_id": "cell-5f7dc6671c80bcf3",
     "locked": true,
     "schema_version": 3,
     "solution": false,
     "task": false
    }
   },
   "source": [
    "**Step 5:** Use the `.predict()` method of `model` to predict the cluster labels of `points`, assigning the result to `labels`."
   ]
  },
  {
   "cell_type": "code",
   "execution_count": 85,
   "metadata": {
    "id": "98hs3LytaBm6",
    "nbgrader": {
     "grade": false,
     "grade_id": "cell-fe0636d9d3113913",
     "locked": false,
     "schema_version": 3,
     "solution": true,
     "task": false
    }
   },
   "outputs": [
    {
     "data": {
      "text/plain": [
       "array([0, 2, 1, 1, 2, 2, 1, 0, 2, 2, 1, 0, 2, 1, 2, 0, 1, 1, 0, 1, 2, 0,\n",
       "       2, 0, 0, 2, 0, 0, 0, 2, 1, 1, 1, 2, 0, 2, 0, 0, 2, 0, 0, 1, 2, 2,\n",
       "       2, 0, 0, 1, 0, 1, 1, 1, 0, 0, 0, 2, 0, 0, 2, 1, 2, 0, 0, 1, 1, 2,\n",
       "       1, 2, 2, 0, 1, 2, 1, 0, 1, 2, 0, 0, 0, 1, 0, 2, 1, 2, 2, 2, 2, 0,\n",
       "       0, 1, 2, 1, 2, 0, 0, 0, 1, 2, 2, 1, 2, 0, 2, 1, 0, 1, 1, 1, 2, 2,\n",
       "       0, 2, 1, 2, 2, 2, 0, 2, 1, 1, 0, 0, 0, 0, 0, 2, 1, 0, 2, 2, 1, 1,\n",
       "       2, 0, 2, 0, 1, 2, 1, 0, 1, 1, 0, 1, 1, 0, 1, 2, 0, 0, 0, 1, 1, 2,\n",
       "       1, 2, 0, 0, 1, 2, 1, 1, 1, 2, 0, 0, 2, 1, 1, 0, 0, 1, 0, 0, 2, 0,\n",
       "       1, 1, 1, 0, 0, 1, 0, 1, 1, 0, 2, 1, 0, 0, 0, 0, 2, 1, 0, 2, 2, 2,\n",
       "       0, 2, 0, 0, 2, 1, 1, 0, 1, 0, 0, 2, 2, 0, 1, 2, 1, 0, 1, 2, 0, 2,\n",
       "       2, 2, 2, 1, 1, 1, 0, 0, 2, 0, 1, 2, 0, 0, 2, 0, 1, 1, 1, 1, 1, 2,\n",
       "       0, 0, 1, 1, 0, 2, 1, 2, 2, 0, 0, 2, 2, 2, 0, 1, 0, 2, 0, 1, 1, 1,\n",
       "       1, 1, 0, 0, 2, 0, 0, 2, 1, 1, 2, 0, 1, 1, 2, 2, 0, 0, 0, 2, 2, 0,\n",
       "       1, 2, 2, 1, 0, 0, 0, 2, 0, 0, 0, 2, 2, 2], dtype=int32)"
      ]
     },
     "execution_count": 85,
     "metadata": {},
     "output_type": "execute_result"
    }
   ],
   "source": [
    "### BEGIN SOLUTION\n",
    "labels = model.predict(points)\n",
    "labels\n",
    "### END SOLUTION"
   ]
  },
  {
   "cell_type": "code",
   "execution_count": 86,
   "metadata": {},
   "outputs": [
    {
     "data": {
      "text/plain": [
       "array([[ 0.06544649, -0.76866376],\n",
       "       [-1.52901547, -0.42953079],\n",
       "       [ 1.70993371,  0.69885253],\n",
       "       [ 1.16779145,  1.01262638],\n",
       "       [-1.80110088, -0.31861296],\n",
       "       [-1.63567888, -0.02859535],\n",
       "       [ 1.21990375,  0.74643463],\n",
       "       [-0.26175155, -0.62492939],\n",
       "       [-1.61925804, -0.47983949],\n",
       "       [-1.84329582, -0.16694431],\n",
       "       [ 1.35999602,  0.94995827],\n",
       "       [ 0.42291856, -0.7349534 ],\n",
       "       [-1.68576139,  0.10686728],\n",
       "       [ 0.90629995,  1.09105162],\n",
       "       [-1.56478322, -0.84675394],\n",
       "       [-0.0257849 , -1.18672539],\n",
       "       [ 0.83027324,  1.14504612],\n",
       "       [ 1.22450432,  1.35066759],\n",
       "       [-0.15394596, -0.71704301],\n",
       "       [ 0.86358809,  1.06824613],\n",
       "       [-1.43386366, -0.2381297 ],\n",
       "       [ 0.03844769, -0.74635022],\n",
       "       [-1.58567922,  0.08499354],\n",
       "       [ 0.6359888 , -0.58477698],\n",
       "       [ 0.24417242, -0.53172465],\n",
       "       [-2.19680359,  0.49473677],\n",
       "       [ 1.0323503 , -0.55688   ],\n",
       "       [-0.28858067, -0.39972528],\n",
       "       [ 0.20597008, -0.80171536],\n",
       "       [-1.2107308 , -0.34924109],\n",
       "       [ 1.33423684,  0.7721489 ],\n",
       "       [ 1.19480152,  1.04788556],\n",
       "       [ 0.9917477 ,  0.89202008],\n",
       "       [-1.8356219 , -0.04839732],\n",
       "       [ 0.08415721, -0.71564326],\n",
       "       [-1.48970175, -0.19299604],\n",
       "       [ 0.38782418, -0.82060119],\n",
       "       [-0.01448044, -0.9779841 ],\n",
       "       [-2.0521341 , -0.02129125],\n",
       "       [ 0.10331194, -0.82162781],\n",
       "       [-0.44189315, -0.65710974],\n",
       "       [ 1.10390926,  1.02481182],\n",
       "       [-1.59227759, -0.17374038],\n",
       "       [-1.47344152, -0.02202853],\n",
       "       [-1.35514704,  0.22971067],\n",
       "       [ 0.0412337 , -1.23776622],\n",
       "       [ 0.4761517 , -1.13672124],\n",
       "       [ 1.04335676,  0.82345905],\n",
       "       [-0.07961882, -0.85677394],\n",
       "       [ 0.87065059,  1.08052841],\n",
       "       [ 1.40267313,  1.07525119],\n",
       "       [ 0.80111157,  1.28342825],\n",
       "       [-0.16527516, -1.23583804],\n",
       "       [-0.33779221, -0.59194323],\n",
       "       [ 0.80610749, -0.73752159],\n",
       "       [-1.43590032, -0.56384446],\n",
       "       [ 0.54868895, -0.95143829],\n",
       "       [ 0.46803131, -0.74973907],\n",
       "       [-1.5137129 , -0.83914323],\n",
       "       [ 0.9138436 ,  1.51126532],\n",
       "       [-1.97233903, -0.41155375],\n",
       "       [ 0.5213406 , -0.88654894],\n",
       "       [ 0.62759494, -1.18590477],\n",
       "       [ 0.94163014,  1.35399335],\n",
       "       [ 0.56994768,  1.07036606],\n",
       "       [-1.87663382,  0.14745773],\n",
       "       [ 0.90612186,  0.91084011],\n",
       "       [-1.37481454,  0.28428395],\n",
       "       [-1.80564029, -0.96710574],\n",
       "       [ 0.34307757, -0.79999275],\n",
       "       [ 0.70380566,  1.00025804],\n",
       "       [-1.68489862, -0.30564595],\n",
       "       [ 1.31473221,  0.98614978],\n",
       "       [ 0.26151216, -0.26069251],\n",
       "       [ 0.9193121 ,  0.82371485],\n",
       "       [-1.21795929, -0.20219674],\n",
       "       [-0.17722723, -1.02665245],\n",
       "       [ 0.64824862, -0.66822881],\n",
       "       [ 0.41206786, -0.28783784],\n",
       "       [ 1.01568202,  1.13481667],\n",
       "       [ 0.67900254, -0.91489502],\n",
       "       [-1.05182747, -0.01062376],\n",
       "       [ 0.61306599,  1.78210384],\n",
       "       [-1.50219748, -0.52308922],\n",
       "       [-1.72717293, -0.46173916],\n",
       "       [-1.60995631, -0.1821007 ],\n",
       "       [-1.09111021, -0.0781398 ],\n",
       "       [-0.01046978, -0.80913034],\n",
       "       [ 0.32782303, -0.80734754],\n",
       "       [ 1.22038503,  1.1959793 ],\n",
       "       [-1.33328681, -0.30001937],\n",
       "       [ 0.87959517,  1.11566491],\n",
       "       [-1.14829098, -0.30400762],\n",
       "       [-0.58019755, -1.19996018],\n",
       "       [-0.01161159, -0.78468854],\n",
       "       [ 0.17359724, -0.63398145],\n",
       "       [ 1.32738556,  0.67759969],\n",
       "       [-1.93467327,  0.30572472],\n",
       "       [-1.57761893, -0.27726365],\n",
       "       [ 0.47639   ,  1.21422648],\n",
       "       [-1.65237509, -0.6803981 ],\n",
       "       [-0.12609976, -1.04327457],\n",
       "       [-1.89607082, -0.70085502],\n",
       "       [ 0.57466899,  0.74878369],\n",
       "       [-0.16660312, -0.83110295],\n",
       "       [ 0.8013355 ,  1.22244435],\n",
       "       [ 1.18455426,  1.4346467 ],\n",
       "       [ 1.08864428,  0.64667112],\n",
       "       [-1.61158505,  0.22805725],\n",
       "       [-1.57512205, -0.09612576],\n",
       "       [ 0.0721357 , -0.69640328],\n",
       "       [-1.40054298,  0.16390598],\n",
       "       [ 1.09607713,  1.16804691],\n",
       "       [-2.54346204, -0.23089822],\n",
       "       [-1.34544875,  0.25151126],\n",
       "       [-1.35478629, -0.19103317],\n",
       "       [ 0.18368113, -1.15827725],\n",
       "       [-1.31368677, -0.376357  ],\n",
       "       [ 0.09990129,  1.22500491],\n",
       "       [ 1.17225574,  1.30835143],\n",
       "       [ 0.0865397 , -0.79714371],\n",
       "       [-0.21053923, -1.13421511],\n",
       "       [ 0.26496024, -0.94760742],\n",
       "       [-0.2557591 , -1.06266022],\n",
       "       [-0.26039757, -0.74774225],\n",
       "       [-1.91787359,  0.16434571],\n",
       "       [ 0.93021139,  0.49436331],\n",
       "       [ 0.44770467, -0.72877918],\n",
       "       [-1.63802869, -0.58925528],\n",
       "       [-1.95712763, -0.10125137],\n",
       "       [ 0.9270337 ,  0.88251423],\n",
       "       [ 1.25660093,  0.60828073],\n",
       "       [-1.72818632,  0.08416887],\n",
       "       [ 0.3499788 , -0.30490298],\n",
       "       [-1.51696082, -0.50913109],\n",
       "       [ 0.18763605, -0.55424924],\n",
       "       [ 0.89609809,  0.83551508],\n",
       "       [-1.54968857, -0.17114782],\n",
       "       [ 1.2157457 ,  1.23317728],\n",
       "       [ 0.20307745, -1.03784906],\n",
       "       [ 0.84589086,  1.03615273],\n",
       "       [ 0.53237919,  1.47362884],\n",
       "       [-0.05319044, -1.36150553],\n",
       "       [ 1.38819743,  1.11729915],\n",
       "       [ 1.00696304,  1.0367721 ],\n",
       "       [ 0.56681869, -1.09637176],\n",
       "       [ 0.86888296,  1.05248874],\n",
       "       [-1.16286609, -0.55875245],\n",
       "       [ 0.27717768, -0.83844015],\n",
       "       [ 0.16563267, -0.80306607],\n",
       "       [ 0.38263303, -0.42683241],\n",
       "       [ 1.14519807,  0.89659026],\n",
       "       [ 0.81455857,  0.67533667],\n",
       "       [-1.8603152 , -0.09537561],\n",
       "       [ 0.965641  ,  0.90295579],\n",
       "       [-1.49897451, -0.33254044],\n",
       "       [-0.1335489 , -0.80727582],\n",
       "       [ 0.12541527, -1.13354906],\n",
       "       [ 1.06062436,  1.28816358],\n",
       "       [-1.49154578, -0.2024641 ],\n",
       "       [ 1.16189032,  1.28819877],\n",
       "       [ 0.54282033,  0.75203524],\n",
       "       [ 0.89221065,  0.99211624],\n",
       "       [-1.49932011, -0.32430667],\n",
       "       [ 0.3166647 , -1.34482915],\n",
       "       [ 0.13972469, -1.22097448],\n",
       "       [-1.5499724 , -0.10782584],\n",
       "       [ 1.23846858,  1.37668804],\n",
       "       [ 1.25558954,  0.72026098],\n",
       "       [ 0.25558689, -1.28529763],\n",
       "       [ 0.45168933, -0.55952093],\n",
       "       [ 1.06202057,  1.03404604],\n",
       "       [ 0.67451908, -0.54970299],\n",
       "       [ 0.22759676, -1.02729468],\n",
       "       [-1.45835281, -0.04951074],\n",
       "       [ 0.23273501, -0.70849262],\n",
       "       [ 1.59679589,  1.11395076],\n",
       "       [ 0.80476105,  0.544627  ],\n",
       "       [ 1.15492521,  1.04352191],\n",
       "       [ 0.59632776, -1.19142897],\n",
       "       [ 0.02839068, -0.43829366],\n",
       "       [ 1.13451584,  0.5632633 ],\n",
       "       [ 0.21576204, -1.04445753],\n",
       "       [ 1.41048987,  1.02830719],\n",
       "       [ 1.12289302,  0.58029441],\n",
       "       [ 0.25200688, -0.82588436],\n",
       "       [-1.28566081, -0.07390909],\n",
       "       [ 1.52849815,  1.11822469],\n",
       "       [-0.23907858, -0.70541972],\n",
       "       [-0.25792784, -0.81825035],\n",
       "       [ 0.59367818, -0.45239915],\n",
       "       [ 0.07931909, -0.29233213],\n",
       "       [-1.27256815,  0.11630577],\n",
       "       [ 0.66930129,  1.00731481],\n",
       "       [ 0.34791546, -1.20822877],\n",
       "       [-2.11283993, -0.66897935],\n",
       "       [-1.6293824 , -0.32718222],\n",
       "       [-1.53819139, -0.01501972],\n",
       "       [-0.11988545, -0.6036339 ],\n",
       "       [-1.54418956, -0.30389844],\n",
       "       [ 0.30026614, -0.77723173],\n",
       "       [ 0.00935449, -0.53888192],\n",
       "       [-1.33424393, -0.11560431],\n",
       "       [ 0.47504489,  0.78421384],\n",
       "       [ 0.59313264,  1.232239  ],\n",
       "       [ 0.41370369, -1.35205857],\n",
       "       [ 0.55840948,  0.78831053],\n",
       "       [ 0.49855018, -0.789949  ],\n",
       "       [ 0.35675809, -0.81038693],\n",
       "       [-1.86197825, -0.59071305],\n",
       "       [-1.61977671, -0.16076687],\n",
       "       [ 0.80779295, -0.73311294],\n",
       "       [ 1.62745775,  0.62787163],\n",
       "       [-1.56993593, -0.08467567],\n",
       "       [ 1.02558561,  0.89383302],\n",
       "       [ 0.24293461, -0.6088253 ],\n",
       "       [ 1.23130242,  1.00262186],\n",
       "       [-1.9651013 , -0.15886289],\n",
       "       [ 0.42795032, -0.70384432],\n",
       "       [-1.58306818, -0.19431923],\n",
       "       [-1.57195923,  0.01413469],\n",
       "       [-0.98145373,  0.06132285],\n",
       "       [-1.48637844, -0.5746531 ],\n",
       "       [ 0.98745828,  0.69188053],\n",
       "       [ 1.28619721,  1.28128821],\n",
       "       [ 0.85850596,  0.95541481],\n",
       "       [ 0.19028286, -0.82112942],\n",
       "       [ 0.26561046, -0.04255239],\n",
       "       [-1.61897897,  0.00862372],\n",
       "       [ 0.24070183, -0.52664209],\n",
       "       [ 1.15220993,  0.43916694],\n",
       "       [-1.21967812, -0.2580313 ],\n",
       "       [ 0.33412533, -0.86117761],\n",
       "       [ 0.17131003, -0.75638965],\n",
       "       [-1.19828397, -0.73744665],\n",
       "       [-0.12245932, -0.45648879],\n",
       "       [ 1.51200698,  0.88825741],\n",
       "       [ 1.10338866,  0.92347479],\n",
       "       [ 1.30972095,  0.59066989],\n",
       "       [ 0.19964876,  1.14855889],\n",
       "       [ 0.81460515,  0.84538972],\n",
       "       [-1.6422739 , -0.42296206],\n",
       "       [ 0.01224351, -0.21247816],\n",
       "       [ 0.33709102, -0.74618065],\n",
       "       [ 0.47301054,  0.72712075],\n",
       "       [ 0.34706626,  1.23033757],\n",
       "       [-0.00393279, -0.97209694],\n",
       "       [-1.64303119,  0.05276337],\n",
       "       [ 1.44649625,  1.14217033],\n",
       "       [-1.93030087, -0.40026146],\n",
       "       [-2.37296135, -0.72633645],\n",
       "       [ 0.45860122, -1.06048953],\n",
       "       [ 0.4896361 , -1.18928313],\n",
       "       [-1.02335902, -0.17520578],\n",
       "       [-1.32761107, -0.93963549],\n",
       "       [-1.50987909, -0.09473658],\n",
       "       [ 0.02723057, -0.79870549],\n",
       "       [ 1.0169412 ,  1.26461701],\n",
       "       [ 0.47733527, -0.9898471 ],\n",
       "       [-1.27784224, -0.547416  ],\n",
       "       [ 0.49898802, -0.6237259 ],\n",
       "       [ 1.06004731,  0.86870008],\n",
       "       [ 1.00207501,  1.38293512],\n",
       "       [ 1.31161394,  0.62833956],\n",
       "       [ 1.13428443,  1.18346542],\n",
       "       [ 1.27671346,  0.96632878],\n",
       "       [-0.63342885, -0.97768251],\n",
       "       [ 0.12698779, -0.93142317],\n",
       "       [-1.34510812, -0.23754226],\n",
       "       [-0.53162278, -1.25153594],\n",
       "       [ 0.21959934, -0.90269938],\n",
       "       [-1.78997479, -0.12115748],\n",
       "       [ 1.23197473, -0.07453764],\n",
       "       [ 1.4163536 ,  1.21551752],\n",
       "       [-1.90280976, -0.1638976 ],\n",
       "       [-0.22440081, -0.75454248],\n",
       "       [ 0.59559412,  0.92414553],\n",
       "       [ 1.21930773,  1.08175284],\n",
       "       [-1.99427535, -0.37587799],\n",
       "       [-1.27818474, -0.52454551],\n",
       "       [ 0.62352689, -1.01430108],\n",
       "       [ 0.14024251, -0.428266  ],\n",
       "       [-0.16145713, -1.16359731],\n",
       "       [-1.74795865, -0.06033101],\n",
       "       [-1.16659791,  0.0902393 ],\n",
       "       [ 0.41110408, -0.8084249 ],\n",
       "       [ 1.14757168,  0.77804528],\n",
       "       [-1.65590748, -0.40105446],\n",
       "       [-1.15306865,  0.00858699],\n",
       "       [ 0.60892121,  0.68974833],\n",
       "       [-0.08434138, -0.97615256],\n",
       "       [ 0.19170053, -0.42331438],\n",
       "       [ 0.29663162, -1.13357399],\n",
       "       [-1.36893628, -0.25052124],\n",
       "       [-0.08037807, -0.56784155],\n",
       "       [ 0.35695011, -1.15064408],\n",
       "       [ 0.02482179, -0.63594828],\n",
       "       [-1.49075558, -0.2482507 ],\n",
       "       [-1.408588  ,  0.25635431],\n",
       "       [-1.98274626, -0.54584475]])"
      ]
     },
     "execution_count": 86,
     "metadata": {},
     "output_type": "execute_result"
    }
   ],
   "source": [
    "points"
   ]
  },
  {
   "cell_type": "code",
   "execution_count": 87,
   "metadata": {
    "id": "wbEbY9sraBm6",
    "nbgrader": {
     "grade": true,
     "grade_id": "cell-3e790b82f9bf37fc",
     "locked": true,
     "points": 2,
     "schema_version": 3,
     "solution": false,
     "task": false
    }
   },
   "outputs": [],
   "source": [
    "assert labels[labels.argmax()] == 2\n",
    "assert labels.shape == (300,)"
   ]
  },
  {
   "cell_type": "code",
   "execution_count": 88,
   "metadata": {
    "id": "imYlD1QuaBm7",
    "nbgrader": {
     "grade": false,
     "grade_id": "cell-917ce87ba793a518",
     "locked": false,
     "schema_version": 3,
     "solution": true,
     "task": false
    }
   },
   "outputs": [
    {
     "data": {
      "text/html": [
       "<div>\n",
       "<style scoped>\n",
       "    .dataframe tbody tr th:only-of-type {\n",
       "        vertical-align: middle;\n",
       "    }\n",
       "\n",
       "    .dataframe tbody tr th {\n",
       "        vertical-align: top;\n",
       "    }\n",
       "\n",
       "    .dataframe thead th {\n",
       "        text-align: right;\n",
       "    }\n",
       "</style>\n",
       "<table border=\"1\" class=\"dataframe\">\n",
       "  <thead>\n",
       "    <tr style=\"text-align: right;\">\n",
       "      <th></th>\n",
       "      <th>sepal length</th>\n",
       "      <th>sepal width</th>\n",
       "      <th>petal length</th>\n",
       "      <th>petal width</th>\n",
       "      <th>target</th>\n",
       "      <th>class</th>\n",
       "    </tr>\n",
       "  </thead>\n",
       "  <tbody>\n",
       "    <tr>\n",
       "      <th>135</th>\n",
       "      <td>7.7</td>\n",
       "      <td>3.0</td>\n",
       "      <td>6.1</td>\n",
       "      <td>2.3</td>\n",
       "      <td>2</td>\n",
       "      <td>virginica</td>\n",
       "    </tr>\n",
       "    <tr>\n",
       "      <th>49</th>\n",
       "      <td>5.0</td>\n",
       "      <td>3.3</td>\n",
       "      <td>1.4</td>\n",
       "      <td>0.2</td>\n",
       "      <td>0</td>\n",
       "      <td>setosa</td>\n",
       "    </tr>\n",
       "    <tr>\n",
       "      <th>6</th>\n",
       "      <td>4.6</td>\n",
       "      <td>3.4</td>\n",
       "      <td>1.4</td>\n",
       "      <td>0.3</td>\n",
       "      <td>0</td>\n",
       "      <td>setosa</td>\n",
       "    </tr>\n",
       "    <tr>\n",
       "      <th>4</th>\n",
       "      <td>5.0</td>\n",
       "      <td>3.6</td>\n",
       "      <td>1.4</td>\n",
       "      <td>0.2</td>\n",
       "      <td>0</td>\n",
       "      <td>setosa</td>\n",
       "    </tr>\n",
       "    <tr>\n",
       "      <th>74</th>\n",
       "      <td>6.4</td>\n",
       "      <td>2.9</td>\n",
       "      <td>4.3</td>\n",
       "      <td>1.3</td>\n",
       "      <td>1</td>\n",
       "      <td>versicolor</td>\n",
       "    </tr>\n",
       "    <tr>\n",
       "      <th>58</th>\n",
       "      <td>6.6</td>\n",
       "      <td>2.9</td>\n",
       "      <td>4.6</td>\n",
       "      <td>1.3</td>\n",
       "      <td>1</td>\n",
       "      <td>versicolor</td>\n",
       "    </tr>\n",
       "    <tr>\n",
       "      <th>40</th>\n",
       "      <td>5.0</td>\n",
       "      <td>3.5</td>\n",
       "      <td>1.3</td>\n",
       "      <td>0.3</td>\n",
       "      <td>0</td>\n",
       "      <td>setosa</td>\n",
       "    </tr>\n",
       "    <tr>\n",
       "      <th>24</th>\n",
       "      <td>4.8</td>\n",
       "      <td>3.4</td>\n",
       "      <td>1.9</td>\n",
       "      <td>0.2</td>\n",
       "      <td>0</td>\n",
       "      <td>setosa</td>\n",
       "    </tr>\n",
       "    <tr>\n",
       "      <th>56</th>\n",
       "      <td>6.3</td>\n",
       "      <td>3.3</td>\n",
       "      <td>4.7</td>\n",
       "      <td>1.6</td>\n",
       "      <td>1</td>\n",
       "      <td>versicolor</td>\n",
       "    </tr>\n",
       "    <tr>\n",
       "      <th>17</th>\n",
       "      <td>5.1</td>\n",
       "      <td>3.5</td>\n",
       "      <td>1.4</td>\n",
       "      <td>0.3</td>\n",
       "      <td>0</td>\n",
       "      <td>setosa</td>\n",
       "    </tr>\n",
       "  </tbody>\n",
       "</table>\n",
       "</div>"
      ],
      "text/plain": [
       "     sepal length  sepal width  petal length  petal width  target       class\n",
       "135           7.7          3.0           6.1          2.3       2   virginica\n",
       "49            5.0          3.3           1.4          0.2       0      setosa\n",
       "6             4.6          3.4           1.4          0.3       0      setosa\n",
       "4             5.0          3.6           1.4          0.2       0      setosa\n",
       "74            6.4          2.9           4.3          1.3       1  versicolor\n",
       "58            6.6          2.9           4.6          1.3       1  versicolor\n",
       "40            5.0          3.5           1.3          0.3       0      setosa\n",
       "24            4.8          3.4           1.9          0.2       0      setosa\n",
       "56            6.3          3.3           4.7          1.6       1  versicolor\n",
       "17            5.1          3.5           1.4          0.3       0      setosa"
      ]
     },
     "execution_count": 88,
     "metadata": {},
     "output_type": "execute_result"
    }
   ],
   "source": [
    "# Make a function that returns 3 numpy arrays each one with the points associated for each class\n",
    "#If the label is 0 they go into data_0\n",
    "#If the label is 1 they go into data_1\n",
    "#If the label is 2 they go into data_2\n",
    "def create_df():\n",
    "    \n",
    "    # YOUR CODE HERE\n",
    "    data = iris_data\n",
    "    df = pd.DataFrame(data=data.data, columns=data.feature_names)\n",
    "    df = df.rename(columns={'sepal length (cm)':'sepal length','sepal width (cm)':'sepal width', 'petal length (cm)':'petal length', 'petal width (cm)':'petal width'})\n",
    "    df['target'] = data.target\n",
    "    df['class'] = data.target_names[data.target]\n",
    "    return df\n",
    "df_iris = create_df()\n",
    "df_iris.sample(n=10)\n",
    "\n",
    "    ### END SOLUTION\n"
   ]
  },
  {
   "cell_type": "code",
   "execution_count": 89,
   "metadata": {
    "id": "RsnTH6biaBm7",
    "nbgrader": {
     "grade": true,
     "grade_id": "cell-9d19700f8e07d490",
     "locked": true,
     "points": 2,
     "schema_version": 3,
     "solution": false,
     "task": false
    }
   },
   "outputs": [],
   "source": [
    "assert abs(data_0.shape[0] - 94) <= 20\n",
    "assert abs(data_1.shape[0] - 95) <= 20\n",
    "assert abs(data_2.shape[0] - 111) <= 20"
   ]
  },
  {
   "cell_type": "code",
   "execution_count": 90,
   "metadata": {
    "id": "slfkz_onaBm8",
    "nbgrader": {
     "grade": false,
     "grade_id": "cell-6ae9d7e6dfb48eda",
     "locked": false,
     "schema_version": 3,
     "solution": true,
     "task": false
    }
   },
   "outputs": [
    {
     "data": {
      "image/png": "[encoded data removed]",
      "text/plain": [
       "<Figure size 432x288 with 1 Axes>"
      ]
     },
     "metadata": {
      "needs_background": "light"
     },
     "output_type": "display_data"
    }
   ],
   "source": [
    "# plotting the data \n",
    "dn = 0\n",
    "### BEGIN SOLUTION\n",
    "dn = dendrogram(mergings,leaf_rotation=90,leaf_font_size=6)\n",
    "\n",
    "### END SOLUTION"
   ]
  },
  {
   "cell_type": "markdown",
   "metadata": {
    "id": "2eEQmMvFaBm9"
   },
   "source": [
    "**Step 7:** Use the `.predict()` method of `model` to predict the cluster labels of `new_points`, assigning the result to `new_labels`.  Notice that KMeans can assign previously unseen points to the clusters it has already found!"
   ]
  },
  {
   "cell_type": "code",
   "execution_count": 91,
   "metadata": {
    "id": "5RCsQ8uYaBm9",
    "nbgrader": {
     "grade": false,
     "grade_id": "cell-e1c6be8c2b6c48ab",
     "locked": false,
     "schema_version": 3,
     "solution": true,
     "task": false
    }
   },
   "outputs": [
    {
     "data": {
      "text/plain": [
       "array([1, 1, 2, 2, 0, 0, 1, 0, 0, 2, 0, 0, 2, 0, 1, 1, 0, 1, 1, 0, 1, 1,\n",
       "       2, 1, 2, 0, 2, 1, 1, 1, 2, 0, 0, 2, 2, 1, 2, 2, 2, 2, 1, 0, 2, 0,\n",
       "       2, 2, 0, 1, 2, 2, 1, 1, 0, 1, 0, 1, 2, 1, 2, 2, 2, 0, 0, 0, 2, 2,\n",
       "       0, 2, 0, 2, 1, 1, 1, 0, 2, 0, 0, 0, 1, 0, 1, 0, 1, 0, 1, 2, 1, 0,\n",
       "       2, 0, 1, 1, 2, 2, 1, 1, 1, 2, 0, 2], dtype=int32)"
      ]
     },
     "execution_count": 91,
     "metadata": {},
     "output_type": "execute_result"
    }
   ],
   "source": [
    "\n",
    "### BEGIN SOLUTION\n",
    "new_labels = model.predict(new_points)\n",
    "new_labels\n",
    "\n",
    "### END SOLUTION\n"
   ]
  },
  {
   "cell_type": "code",
   "execution_count": 92,
   "metadata": {
    "id": "G39NZZOEaBm9",
    "nbgrader": {
     "grade": true,
     "grade_id": "cell-33a135652cf843e7",
     "locked": true,
     "points": 2,
     "schema_version": 3,
     "solution": false,
     "task": false
    }
   },
   "outputs": [],
   "source": [
    "assert new_labels[new_labels.argmax()] == 2\n",
    "assert new_labels.shape == (100,)"
   ]
  },
  {
   "cell_type": "code",
   "execution_count": 93,
   "metadata": {
    "id": "XZgzl7c3aBm-",
    "nbgrader": {
     "grade": false,
     "grade_id": "cell-91d525783ae0a408",
     "locked": false,
     "schema_version": 3,
     "solution": true,
     "task": false
    }
   },
   "outputs": [],
   "source": [
    "#separate the data by labels like we did before\n",
    "\n",
    "def separate_labels(labels, points):\n",
    "    new_0 = []\n",
    "    new_1 = []\n",
    "    new_2 = []\n",
    "\n",
    "    for x in labels:\n",
    "        if x == 0:\n",
    "            new_0.append(x)\n",
    "            new_0 = np.array(new_0)\n",
    "        elif x == 1:\n",
    "            new_1.append(x)\n",
    "            new_1 = np.array(new_1)\n",
    "        else:\n",
    "            new_2.append(x)\n",
    "            new_2 = np.array(new_2)\n",
    "\n",
    "    return new_0\n",
    "    return new_1\n",
    "    return new_2\n",
    "\n",
    "### BEGIN SOLUTION\n",
    "\n",
    "### END SOLUTION\n"
   ]
  },
  {
   "cell_type": "code",
   "execution_count": 94,
   "metadata": {
    "id": "uzCSRzHUaBm_",
    "nbgrader": {
     "grade": true,
     "grade_id": "cell-bbb9a9b41cb01987",
     "locked": true,
     "points": 2,
     "schema_version": 3,
     "solution": false,
     "task": false
    }
   },
   "outputs": [
    {
     "ename": "NameError",
     "evalue": "name 'new_0' is not defined",
     "output_type": "error",
     "traceback": [
      "\u001b[0;31m---------------------------------------------------------------------------\u001b[0m",
      "\u001b[0;31mNameError\u001b[0m                                 Traceback (most recent call last)",
      "\u001b[0;32m/var/folders/9p/tr5nxpls61zfnl9tjr25j0_40000gn/T/ipykernel_14462/2591293991.py\u001b[0m in \u001b[0;36m<module>\u001b[0;34m\u001b[0m\n\u001b[0;32m----> 1\u001b[0;31m \u001b[0;32massert\u001b[0m \u001b[0mabs\u001b[0m\u001b[0;34m(\u001b[0m\u001b[0mnew_0\u001b[0m\u001b[0;34m.\u001b[0m\u001b[0mshape\u001b[0m\u001b[0;34m[\u001b[0m\u001b[0;36m0\u001b[0m\u001b[0;34m]\u001b[0m \u001b[0;34m-\u001b[0m \u001b[0;36m34\u001b[0m\u001b[0;34m)\u001b[0m \u001b[0;34m<=\u001b[0m \u001b[0;36m5\u001b[0m\u001b[0;34m\u001b[0m\u001b[0;34m\u001b[0m\u001b[0m\n\u001b[0m\u001b[1;32m      2\u001b[0m \u001b[0;32massert\u001b[0m \u001b[0mabs\u001b[0m\u001b[0;34m(\u001b[0m\u001b[0mnew_1\u001b[0m\u001b[0;34m.\u001b[0m\u001b[0mshape\u001b[0m\u001b[0;34m[\u001b[0m\u001b[0;36m0\u001b[0m\u001b[0;34m]\u001b[0m \u001b[0;34m-\u001b[0m \u001b[0;36m34\u001b[0m\u001b[0;34m)\u001b[0m \u001b[0;34m<=\u001b[0m \u001b[0;36m5\u001b[0m\u001b[0;34m\u001b[0m\u001b[0;34m\u001b[0m\u001b[0m\n\u001b[1;32m      3\u001b[0m \u001b[0;32massert\u001b[0m \u001b[0mabs\u001b[0m\u001b[0;34m(\u001b[0m\u001b[0mnew_2\u001b[0m\u001b[0;34m.\u001b[0m\u001b[0mshape\u001b[0m\u001b[0;34m[\u001b[0m\u001b[0;36m0\u001b[0m\u001b[0;34m]\u001b[0m \u001b[0;34m-\u001b[0m \u001b[0;36m34\u001b[0m\u001b[0;34m)\u001b[0m \u001b[0;34m<=\u001b[0m \u001b[0;36m5\u001b[0m\u001b[0;34m\u001b[0m\u001b[0;34m\u001b[0m\u001b[0m\n",
      "\u001b[0;31mNameError\u001b[0m: name 'new_0' is not defined"
     ]
    }
   ],
   "source": [
    "assert abs(new_0.shape[0] - 34) <= 5\n",
    "assert abs(new_1.shape[0] - 34) <= 5\n",
    "assert abs(new_2.shape[0] - 34) <= 5"
   ]
  },
  {
   "cell_type": "code",
   "execution_count": null,
   "metadata": {
    "id": "tA8qY8EPaBm_",
    "nbgrader": {
     "grade": false,
     "grade_id": "cell-f0f51c7f91e8b4df",
     "locked": false,
     "schema_version": 3,
     "solution": true,
     "task": false
    }
   },
   "outputs": [
    {
     "data": {
      "image/png": "[encoded data removed]",
      "text/plain": [
       "<Figure size 432x288 with 1 Axes>"
      ]
     },
     "metadata": {
      "needs_background": "light"
     },
     "output_type": "display_data"
    }
   ],
   "source": [
    "#plot the new labels\n",
    "\n",
    "\n",
    "### BEGIN SOLUTION\n",
    "plt.scatter(data_0[:, 0],data_0[:, 1],c = 'r')\n",
    "plt.scatter(data_1[:, 0],data_1[:, 1],c = 'b')\n",
    "plt.scatter(data_2[:, 0],data_2[:, 1],c = 'g')\n",
    "plt.show()\n",
    "\n",
    "\n",
    "### END SOLUTION"
   ]
  },
  {
   "cell_type": "code",
   "execution_count": null,
   "metadata": {
    "id": "lpXuiukraBnA",
    "nbgrader": {
     "grade": false,
     "grade_id": "cell-fb66bc887cd85537",
     "locked": false,
     "schema_version": 3,
     "solution": true,
     "task": false
    }
   },
   "outputs": [
    {
     "ename": "NameError",
     "evalue": "name 'new_0' is not defined",
     "output_type": "error",
     "traceback": [
      "\u001b[0;31m---------------------------------------------------------------------------\u001b[0m",
      "\u001b[0;31mNameError\u001b[0m                                 Traceback (most recent call last)",
      "\u001b[0;32m/var/folders/9p/tr5nxpls61zfnl9tjr25j0_40000gn/T/ipykernel_14462/1041199052.py\u001b[0m in \u001b[0;36m<module>\u001b[0;34m\u001b[0m\n\u001b[1;32m      2\u001b[0m \u001b[0;34m\u001b[0m\u001b[0m\n\u001b[1;32m      3\u001b[0m \u001b[0;31m### BEGIN SOLUTION\u001b[0m\u001b[0;34m\u001b[0m\u001b[0;34m\u001b[0m\u001b[0m\n\u001b[0;32m----> 4\u001b[0;31m \u001b[0mplt\u001b[0m\u001b[0;34m.\u001b[0m\u001b[0mscatter\u001b[0m\u001b[0;34m(\u001b[0m\u001b[0mnew_0\u001b[0m\u001b[0;34m[\u001b[0m\u001b[0;34m:\u001b[0m\u001b[0;34m,\u001b[0m \u001b[0;36m0\u001b[0m\u001b[0;34m]\u001b[0m\u001b[0;34m,\u001b[0m\u001b[0mnew_0\u001b[0m\u001b[0;34m[\u001b[0m\u001b[0;34m:\u001b[0m\u001b[0;34m,\u001b[0m \u001b[0;36m1\u001b[0m\u001b[0;34m]\u001b[0m\u001b[0;34m,\u001b[0m\u001b[0mc\u001b[0m \u001b[0;34m=\u001b[0m \u001b[0;34m'r'\u001b[0m\u001b[0;34m)\u001b[0m\u001b[0;34m\u001b[0m\u001b[0;34m\u001b[0m\u001b[0m\n\u001b[0m\u001b[1;32m      5\u001b[0m \u001b[0mplt\u001b[0m\u001b[0;34m.\u001b[0m\u001b[0mscatter\u001b[0m\u001b[0;34m(\u001b[0m\u001b[0mnew_1\u001b[0m\u001b[0;34m[\u001b[0m\u001b[0;34m:\u001b[0m\u001b[0;34m,\u001b[0m \u001b[0;36m0\u001b[0m\u001b[0;34m]\u001b[0m\u001b[0;34m,\u001b[0m\u001b[0mnew_1\u001b[0m\u001b[0;34m[\u001b[0m\u001b[0;34m:\u001b[0m\u001b[0;34m,\u001b[0m \u001b[0;36m1\u001b[0m\u001b[0;34m]\u001b[0m\u001b[0;34m,\u001b[0m\u001b[0mc\u001b[0m \u001b[0;34m=\u001b[0m \u001b[0;34m'b'\u001b[0m\u001b[0;34m)\u001b[0m\u001b[0;34m\u001b[0m\u001b[0;34m\u001b[0m\u001b[0m\n\u001b[1;32m      6\u001b[0m \u001b[0mplt\u001b[0m\u001b[0;34m.\u001b[0m\u001b[0mscatter\u001b[0m\u001b[0;34m(\u001b[0m\u001b[0mnew_2\u001b[0m\u001b[0;34m[\u001b[0m\u001b[0;34m:\u001b[0m\u001b[0;34m,\u001b[0m \u001b[0;36m0\u001b[0m\u001b[0;34m]\u001b[0m\u001b[0;34m,\u001b[0m\u001b[0mnew_2\u001b[0m\u001b[0;34m[\u001b[0m\u001b[0;34m:\u001b[0m\u001b[0;34m,\u001b[0m \u001b[0;36m1\u001b[0m\u001b[0;34m]\u001b[0m\u001b[0;34m,\u001b[0m\u001b[0mc\u001b[0m \u001b[0;34m=\u001b[0m \u001b[0;34m'g'\u001b[0m\u001b[0;34m)\u001b[0m\u001b[0;34m\u001b[0m\u001b[0;34m\u001b[0m\u001b[0m\n",
      "\u001b[0;31mNameError\u001b[0m: name 'new_0' is not defined"
     ]
    }
   ],
   "source": [
    "#plot all the points together\n",
    "\n",
    "### BEGIN SOLUTION\n",
    "plt.scatter(new_0[:, 0],new_0[:, 1],c = 'r')\n",
    "plt.scatter(new_1[:, 0],new_1[:, 1],c = 'b')\n",
    "plt.scatter(new_2[:, 0],new_2[:, 1],c = 'g')\n",
    "plt.show()\n",
    "\n",
    "\n",
    "### END SOLUTION"
   ]
  },
  {
   "cell_type": "code",
   "execution_count": null,
   "metadata": {
    "id": "KwmYt5Vea902"
   },
   "outputs": [
    {
     "ename": "NameError",
     "evalue": "name 'new_0' is not defined",
     "output_type": "error",
     "traceback": [
      "\u001b[0;31m---------------------------------------------------------------------------\u001b[0m",
      "\u001b[0;31mNameError\u001b[0m                                 Traceback (most recent call last)",
      "\u001b[0;32m/var/folders/9p/tr5nxpls61zfnl9tjr25j0_40000gn/T/ipykernel_14462/2874900929.py\u001b[0m in \u001b[0;36m<module>\u001b[0;34m\u001b[0m\n\u001b[1;32m      2\u001b[0m \u001b[0mplt\u001b[0m\u001b[0;34m.\u001b[0m\u001b[0mscatter\u001b[0m\u001b[0;34m(\u001b[0m\u001b[0mdata_1\u001b[0m\u001b[0;34m[\u001b[0m\u001b[0;34m:\u001b[0m\u001b[0;34m,\u001b[0m \u001b[0;36m0\u001b[0m\u001b[0;34m]\u001b[0m\u001b[0;34m,\u001b[0m\u001b[0mdata_1\u001b[0m\u001b[0;34m[\u001b[0m\u001b[0;34m:\u001b[0m\u001b[0;34m,\u001b[0m \u001b[0;36m1\u001b[0m\u001b[0;34m]\u001b[0m\u001b[0;34m,\u001b[0m\u001b[0mc\u001b[0m \u001b[0;34m=\u001b[0m \u001b[0;34m'b'\u001b[0m\u001b[0;34m)\u001b[0m\u001b[0;34m\u001b[0m\u001b[0;34m\u001b[0m\u001b[0m\n\u001b[1;32m      3\u001b[0m \u001b[0mplt\u001b[0m\u001b[0;34m.\u001b[0m\u001b[0mscatter\u001b[0m\u001b[0;34m(\u001b[0m\u001b[0mdata_2\u001b[0m\u001b[0;34m[\u001b[0m\u001b[0;34m:\u001b[0m\u001b[0;34m,\u001b[0m \u001b[0;36m0\u001b[0m\u001b[0;34m]\u001b[0m\u001b[0;34m,\u001b[0m\u001b[0mdata_2\u001b[0m\u001b[0;34m[\u001b[0m\u001b[0;34m:\u001b[0m\u001b[0;34m,\u001b[0m \u001b[0;36m1\u001b[0m\u001b[0;34m]\u001b[0m\u001b[0;34m,\u001b[0m\u001b[0mc\u001b[0m \u001b[0;34m=\u001b[0m \u001b[0;34m'g'\u001b[0m\u001b[0;34m)\u001b[0m\u001b[0;34m\u001b[0m\u001b[0;34m\u001b[0m\u001b[0m\n\u001b[0;32m----> 4\u001b[0;31m \u001b[0mplt\u001b[0m\u001b[0;34m.\u001b[0m\u001b[0mscatter\u001b[0m\u001b[0;34m(\u001b[0m\u001b[0mnew_0\u001b[0m\u001b[0;34m[\u001b[0m\u001b[0;34m:\u001b[0m\u001b[0;34m,\u001b[0m \u001b[0;36m0\u001b[0m\u001b[0;34m]\u001b[0m\u001b[0;34m,\u001b[0m\u001b[0mnew_0\u001b[0m\u001b[0;34m[\u001b[0m\u001b[0;34m:\u001b[0m\u001b[0;34m,\u001b[0m \u001b[0;36m1\u001b[0m\u001b[0;34m]\u001b[0m\u001b[0;34m,\u001b[0m\u001b[0mc\u001b[0m \u001b[0;34m=\u001b[0m \u001b[0;34m'c'\u001b[0m\u001b[0;34m)\u001b[0m\u001b[0;34m\u001b[0m\u001b[0;34m\u001b[0m\u001b[0m\n\u001b[0m\u001b[1;32m      5\u001b[0m \u001b[0mplt\u001b[0m\u001b[0;34m.\u001b[0m\u001b[0mscatter\u001b[0m\u001b[0;34m(\u001b[0m\u001b[0mnew_1\u001b[0m\u001b[0;34m[\u001b[0m\u001b[0;34m:\u001b[0m\u001b[0;34m,\u001b[0m \u001b[0;36m0\u001b[0m\u001b[0;34m]\u001b[0m\u001b[0;34m,\u001b[0m\u001b[0mnew_1\u001b[0m\u001b[0;34m[\u001b[0m\u001b[0;34m:\u001b[0m\u001b[0;34m,\u001b[0m \u001b[0;36m1\u001b[0m\u001b[0;34m]\u001b[0m\u001b[0;34m,\u001b[0m\u001b[0mc\u001b[0m \u001b[0;34m=\u001b[0m \u001b[0;34m'm'\u001b[0m\u001b[0;34m)\u001b[0m\u001b[0;34m\u001b[0m\u001b[0;34m\u001b[0m\u001b[0m\n\u001b[1;32m      6\u001b[0m \u001b[0mplt\u001b[0m\u001b[0;34m.\u001b[0m\u001b[0mscatter\u001b[0m\u001b[0;34m(\u001b[0m\u001b[0mnew_2\u001b[0m\u001b[0;34m[\u001b[0m\u001b[0;34m:\u001b[0m\u001b[0;34m,\u001b[0m \u001b[0;36m0\u001b[0m\u001b[0;34m]\u001b[0m\u001b[0;34m,\u001b[0m\u001b[0mnew_2\u001b[0m\u001b[0;34m[\u001b[0m\u001b[0;34m:\u001b[0m\u001b[0;34m,\u001b[0m \u001b[0;36m1\u001b[0m\u001b[0;34m]\u001b[0m\u001b[0;34m,\u001b[0m\u001b[0mc\u001b[0m \u001b[0;34m=\u001b[0m \u001b[0;34m'k'\u001b[0m\u001b[0;34m)\u001b[0m\u001b[0;34m\u001b[0m\u001b[0;34m\u001b[0m\u001b[0m\n",
      "\u001b[0;31mNameError\u001b[0m: name 'new_0' is not defined"
     ]
    },
    {
     "data": {
      "image/png": "[encoded data removed]",
      "text/plain": [
       "<Figure size 432x288 with 1 Axes>"
      ]
     },
     "metadata": {
      "needs_background": "light"
     },
     "output_type": "display_data"
    }
   ],
   "source": [
    "plt.scatter(data_0[:, 0],data_0[:, 1],c = 'r')\n",
    "plt.scatter(data_1[:, 0],data_1[:, 1],c = 'b')\n",
    "plt.scatter(data_2[:, 0],data_2[:, 1],c = 'g')\n",
    "plt.scatter(new_0[:, 0],new_0[:, 1],c = 'c')\n",
    "plt.scatter(new_1[:, 0],new_1[:, 1],c = 'm')\n",
    "plt.scatter(new_2[:, 0],new_2[:, 1],c = 'k')\n",
    "plt.show()\n"
   ]
  }
 ],
 "metadata": {
  "celltoolbar": "Create Assignment",
  "colab": {
   "collapsed_sections": [],
   "name": "ml3_exercise.ipynb",
   "provenance": []
  },
  "kernelspec": {
   "display_name": "Python 3",
   "language": "python",
   "name": "python3"
  },
  "language_info": {
   "codemirror_mode": {
    "name": "ipython",
    "version": 3
   },
   "file_extension": ".py",
   "mimetype": "text/x-python",
   "name": "python",
   "nbconvert_exporter": "python",
   "pygments_lexer": "ipython3",
   "version": "3.9.7"
  }
 },
 "nbformat": 4,
 "nbformat_minor": 1
}
