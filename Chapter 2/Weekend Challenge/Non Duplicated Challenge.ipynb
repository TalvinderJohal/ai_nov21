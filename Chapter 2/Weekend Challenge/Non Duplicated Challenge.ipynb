{
 "cells": [
  {
   "cell_type": "code",
   "execution_count": 12,
   "metadata": {},
   "outputs": [],
   "source": [
    "def dup_check(x):\n",
    "    list=[]\n",
    "    for i in x:\n",
    "        if i not in list:\n",
    "            list.append(i)\n",
    "        else:\n",
    "            print(i,end=' ')\n"
   ]
  },
  {
   "cell_type": "code",
   "execution_count": 14,
   "metadata": {},
   "outputs": [
    {
     "name": "stdout",
     "output_type": "stream",
     "text": [
      "4 "
     ]
    }
   ],
   "source": [
    "dup_check([2,3,4,4])"
   ]
  }
 ],
 "metadata": {
  "interpreter": {
   "hash": "75389808db4cfdfe1200cde54a17b18406a6a7ed3c0a510148c4272a10a171b3"
  },
  "kernelspec": {
   "display_name": "Python 3.9.7 64-bit ('Tally': conda)",
   "language": "python",
   "name": "python3"
  },
  "language_info": {
   "codemirror_mode": {
    "name": "ipython",
    "version": 3
   },
   "file_extension": ".py",
   "mimetype": "text/x-python",
   "name": "python",
   "nbconvert_exporter": "python",
   "pygments_lexer": "ipython3",
   "version": "3.9.7"
  },
  "orig_nbformat": 4
 },
 "nbformat": 4,
 "nbformat_minor": 2
}
