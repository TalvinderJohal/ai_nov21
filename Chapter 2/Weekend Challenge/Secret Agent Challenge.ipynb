{
 "cells": [
  {
   "cell_type": "markdown",
   "metadata": {},
   "source": [
    "### 5. Secret Agent Challenge:\n",
    "\n",
    "The goal of this task is to write a function that is able to find the Secret Agent (if any) in a group of people.\n",
    "The function's parameters are the number of the people and a list of pairs (a list of two elements) with the following scheme:\n",
    "the first element of the pair is the name of the person who has information about the person in the second element of the pair. Example: [[felix, lara], [felix, jeno], [lara, jeno]] means that  Felix has information about Jeno and Lara, then Lara has information about Jeno.\n",
    " \n",
    "Rules:\n",
    "A Secret Agent is the person that has information about all the other people, but no one has information about the Secret Agent.\n",
    "So, in the previous example Felix has information about all the others, but no one has information about Felix -> Felix is the Secret Agent.\n",
    "You have to return:\n",
    "the Secret Agent (if any): [[felix, lara], [felix, jeno], [lara, jeno]] -> returns felix | [[felix, lara], [lara, jeno], [lara, felix]] -> returns lara\n",
    "0 if there isn't a Secret Agent ([[felix, lara], [lara, jeno], [jeno, felix]] -> returns 0) \n",
    "if the number of the people is less or equals to 0, or the length of the list is grater than the number of the people or if the length of the pair is not 2 -> returns -1"
   ]
  },
  {
   "cell_type": "code",
   "execution_count": 70,
   "metadata": {},
   "outputs": [],
   "source": [
    "def secret_agent(list):\n",
    "    agent = []\n",
    "    print(list[1])\n",
    "        \n"
   ]
  },
  {
   "cell_type": "code",
   "execution_count": 71,
   "metadata": {},
   "outputs": [
    {
     "name": "stdout",
     "output_type": "stream",
     "text": [
      "['felix, jeno']\n"
     ]
    }
   ],
   "source": [
    "secret_agent([['felix, lara'], ['felix, jeno'], ['lara, jeno']])"
   ]
  }
 ],
 "metadata": {
  "interpreter": {
   "hash": "75389808db4cfdfe1200cde54a17b18406a6a7ed3c0a510148c4272a10a171b3"
  },
  "kernelspec": {
   "display_name": "Python 3.9.7 64-bit ('Tally': conda)",
   "language": "python",
   "name": "python3"
  },
  "language_info": {
   "codemirror_mode": {
    "name": "ipython",
    "version": 3
   },
   "file_extension": ".py",
   "mimetype": "text/x-python",
   "name": "python",
   "nbconvert_exporter": "python",
   "pygments_lexer": "ipython3",
   "version": "3.9.7"
  },
  "orig_nbformat": 4
 },
 "nbformat": 4,
 "nbformat_minor": 2
}
