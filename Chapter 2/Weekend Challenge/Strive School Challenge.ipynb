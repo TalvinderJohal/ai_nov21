{
 "cells": [
  {
   "cell_type": "code",
   "execution_count": 7,
   "metadata": {},
   "outputs": [],
   "source": [
    "def strive_school(x):\n",
    "    for val in x:\n",
    "        if val % 3 == 0 and val % 5 == 0:\n",
    "            print(\"Strive School\")\n",
    "        elif val % 3 == 0:\n",
    "            print(\"Strive\")\n",
    "        elif val % 5 == 0:\n",
    "            print(\"School\")\n",
    "        else:\n",
    "            print(val)"
   ]
  },
  {
   "cell_type": "code",
   "execution_count": 8,
   "metadata": {},
   "outputs": [
    {
     "name": "stdout",
     "output_type": "stream",
     "text": [
      "1\n",
      "2\n",
      "Strive\n",
      "School\n",
      "Strive School\n"
     ]
    }
   ],
   "source": [
    "strive_school([1,2,3,5,15])"
   ]
  },
  {
   "cell_type": "code",
   "execution_count": null,
   "metadata": {},
   "outputs": [],
   "source": []
  }
 ],
 "metadata": {
  "interpreter": {
   "hash": "75389808db4cfdfe1200cde54a17b18406a6a7ed3c0a510148c4272a10a171b3"
  },
  "kernelspec": {
   "display_name": "Python 3.9.7 64-bit ('Tally': conda)",
   "language": "python",
   "name": "python3"
  },
  "language_info": {
   "codemirror_mode": {
    "name": "ipython",
    "version": 3
   },
   "file_extension": ".py",
   "mimetype": "text/x-python",
   "name": "python",
   "nbconvert_exporter": "python",
   "pygments_lexer": "ipython3",
   "version": "3.9.7"
  },
  "orig_nbformat": 4
 },
 "nbformat": 4,
 "nbformat_minor": 2
}
